{
 "cells": [
  {
   "cell_type": "markdown",
   "metadata": {
    "slideshow": {
     "slide_type": "slide"
    }
   },
   "source": [
    "Create the tables for this section."
   ]
  },
  {
   "cell_type": "code",
   "execution_count": 1,
   "metadata": {
    "slideshow": {
     "slide_type": "-"
    }
   },
   "outputs": [],
   "source": [
    "%load_ext sql       \n",
    "# Connect to an empty SQLite database\n",
    "%sql sqlite://"
   ]
  },
  {
   "cell_type": "code",
   "execution_count": 2,
   "metadata": {
    "slideshow": {
     "slide_type": "slide"
    }
   },
   "outputs": [
    {
     "name": "stdout",
     "output_type": "stream",
     "text": [
      " * sqlite://\n",
      "Done.\n",
      "Done.\n",
      "Done.\n",
      "1 rows affected.\n",
      "1 rows affected.\n",
      "1 rows affected.\n",
      "Done.\n"
     ]
    },
    {
     "data": {
      "text/html": [
       "<table>\n",
       "    <tr>\n",
       "        <th>Product</th>\n",
       "        <th>Date</th>\n",
       "        <th>Price</th>\n",
       "        <th>Quantity</th>\n",
       "    </tr>\n",
       "    <tr>\n",
       "        <td>Bagel</td>\n",
       "        <td>2017-10-21</td>\n",
       "        <td>1.0</td>\n",
       "        <td>20</td>\n",
       "    </tr>\n",
       "    <tr>\n",
       "        <td>Bagel</td>\n",
       "        <td>2017-10-25</td>\n",
       "        <td>1.5</td>\n",
       "        <td>20</td>\n",
       "    </tr>\n",
       "    <tr>\n",
       "        <td>Banana</td>\n",
       "        <td>2017-10-03</td>\n",
       "        <td>0.5</td>\n",
       "        <td>10</td>\n",
       "    </tr>\n",
       "    <tr>\n",
       "        <td>Banana</td>\n",
       "        <td>2017-10-10</td>\n",
       "        <td>1.0</td>\n",
       "        <td>10</td>\n",
       "    </tr>\n",
       "</table>"
      ],
      "text/plain": [
       "[('Bagel', '2017-10-21', 1.0, 20),\n",
       " ('Bagel', '2017-10-25', 1.5, 20),\n",
       " ('Banana', '2017-10-03', 0.5, 10),\n",
       " ('Banana', '2017-10-10', 1.0, 10)]"
      ]
     },
     "execution_count": 2,
     "metadata": {},
     "output_type": "execute_result"
    }
   ],
   "source": [
    "%%sql\n",
    "DROP TABLE IF EXISTS Purchase;\n",
    "-- Create tables\n",
    "CREATE TABLE Purchase (\n",
    "    Product  VARCHAR(255), \n",
    "    Date     DATE, \n",
    "    Price    FLOAT,\n",
    "    Quantity INT\n",
    ");\n",
    "\n",
    "-- Insert tuples\n",
    "INSERT INTO Purchase VALUES ('Bagel', '2017-10-21', 1, 20);\n",
    "INSERT INTO Purchase VALUES ('Bagel', '2017-10-25', 1.5, 20);\n",
    "INSERT INTO Purchase VALUES ('Banana', '2017-10-03', 0.5, 10);\n",
    "INSERT INTO Purchase VALUES ('Banana', '2017-10-10', 1, 10);\n",
    "\n",
    "SELECT * FROM Purchase;"
   ]
  },
  {
   "cell_type": "markdown",
   "metadata": {
    "slideshow": {
     "slide_type": "slide"
    }
   },
   "source": [
    "## Aggregation Operations\n",
    "\n",
    "SQL support several __aggregation__ operations\n",
    "* SUM, COUNT, MIN, MAX, AVG\n",
    "* Except COUNT, all aggregations apply to a single attribute"
   ]
  },
  {
   "cell_type": "markdown",
   "metadata": {
    "slideshow": {
     "slide_type": "-"
    }
   },
   "source": [
    "### COUNT\n",
    "\n",
    "Syntax\n",
    "```mysql\n",
    "SELECT COUNT(column_name)\n",
    "FROM   table_name\n",
    "WHERE  condition;\n",
    "``` "
   ]
  },
  {
   "cell_type": "markdown",
   "metadata": {
    "slideshow": {
     "slide_type": "slide"
    }
   },
   "source": [
    "> __Example:__ Find the number of purchases\n",
    "\n",
    "| Product |    Date    | Price | Quantity |\n",
    "|---------|------------|-------|----------|\n",
    "| Bagel   | 2017-10-21 | 1     | 20       |\n",
    "| Bagel   | 2017-10-25 | 1.5   | 20       |\n",
    "| Banana  | 2017-10-03 | 0.5   | 10       |\n",
    "| Banana  | 2017-10-10 | 1     | 10       |"
   ]
  },
  {
   "cell_type": "code",
   "execution_count": 3,
   "metadata": {
    "slideshow": {
     "slide_type": "-"
    }
   },
   "outputs": [
    {
     "name": "stdout",
     "output_type": "stream",
     "text": [
      " * sqlite://\n",
      "Done.\n"
     ]
    },
    {
     "data": {
      "text/html": [
       "<table>\n",
       "    <tr>\n",
       "        <th>COUNT(Product)</th>\n",
       "    </tr>\n",
       "    <tr>\n",
       "        <td>4</td>\n",
       "    </tr>\n",
       "</table>"
      ],
      "text/plain": [
       "[(4,)]"
      ]
     },
     "execution_count": 3,
     "metadata": {},
     "output_type": "execute_result"
    }
   ],
   "source": [
    "%%sql\n",
    "SELECT COUNT(Product)\n",
    "FROM   Purchase;"
   ]
  },
  {
   "cell_type": "markdown",
   "metadata": {
    "slideshow": {
     "slide_type": "-"
    }
   },
   "source": [
    "* Count applies to duplicates, unless otherwise stated\n",
    "  * Same as ```COUNT(*)```. Why?"
   ]
  },
  {
   "cell_type": "markdown",
   "metadata": {
    "slideshow": {
     "slide_type": "slide"
    }
   },
   "source": [
    "> __Example:__ Find the number of __different__ product purchases\n",
    "\n",
    "\n",
    "| Product |    Date    | Price | Quantity |\n",
    "|---------|:----------:|------:|:--------:|\n",
    "| Bagel   | 2017-10-21 | 1.0   | 20       |\n",
    "| Bagel   | 2017-10-25 | 1.5   | 20       |\n",
    "| Banana  | 2017-10-03 | 0.5   | 10       |\n",
    "| Banana  | 2017-10-10 | 1.0   | 10       |\n",
    "\n",
    "* Use DISTINCT"
   ]
  },
  {
   "cell_type": "code",
   "execution_count": 4,
   "metadata": {
    "slideshow": {
     "slide_type": "-"
    }
   },
   "outputs": [
    {
     "name": "stdout",
     "output_type": "stream",
     "text": [
      " * sqlite://\n",
      "Done.\n"
     ]
    },
    {
     "data": {
      "text/html": [
       "<table>\n",
       "    <tr>\n",
       "        <th>COUNT(DISTINCT Product)</th>\n",
       "    </tr>\n",
       "    <tr>\n",
       "        <td>2</td>\n",
       "    </tr>\n",
       "</table>"
      ],
      "text/plain": [
       "[(2,)]"
      ]
     },
     "execution_count": 4,
     "metadata": {},
     "output_type": "execute_result"
    }
   ],
   "source": [
    "%%sql\n",
    "SELECT COUNT(DISTINCT Product)\n",
    "FROM   Purchase;"
   ]
  },
  {
   "cell_type": "markdown",
   "metadata": {
    "slideshow": {
     "slide_type": "slide"
    }
   },
   "source": [
    "### SUM\n",
    "\n",
    "Syntax\n",
    "```mysql\n",
    "SELECT SUM(column_name)\n",
    "FROM   table_name\n",
    "WHERE  condition;\n",
    "```"
   ]
  },
  {
   "cell_type": "markdown",
   "metadata": {
    "slideshow": {
     "slide_type": "slide"
    }
   },
   "source": [
    "> __Example:__ How many units of all products have been purchased?\n",
    "\n",
    "| Product |    Date    | Price | Quantity |\n",
    "|---------|:----------:|------:|:--------:|\n",
    "| Bagel   | 2017-10-21 | 1.0   | 20       |\n",
    "| Bagel   | 2017-10-25 | 1.5   | 20       |\n",
    "| Banana  | 2017-10-03 | 0.5   | 10       |\n",
    "| Banana  | 2017-10-10 | 1.0   | 10       |"
   ]
  },
  {
   "cell_type": "code",
   "execution_count": 5,
   "metadata": {
    "slideshow": {
     "slide_type": "-"
    }
   },
   "outputs": [
    {
     "name": "stdout",
     "output_type": "stream",
     "text": [
      " * sqlite://\n",
      "Done.\n"
     ]
    },
    {
     "data": {
      "text/html": [
       "<table>\n",
       "    <tr>\n",
       "        <th>SUM(Quantity)</th>\n",
       "    </tr>\n",
       "    <tr>\n",
       "        <td>60</td>\n",
       "    </tr>\n",
       "</table>"
      ],
      "text/plain": [
       "[(60,)]"
      ]
     },
     "execution_count": 5,
     "metadata": {},
     "output_type": "execute_result"
    }
   ],
   "source": [
    "%%sql\n",
    "SELECT SUM(Quantity) \n",
    "FROM   Purchase;"
   ]
  },
  {
   "cell_type": "markdown",
   "metadata": {
    "slideshow": {
     "slide_type": "slide"
    }
   },
   "source": [
    "> __Example:__ How many Bagels have been purchased?\n",
    "\n",
    "| Product |    Date    | Price | Quantity |\n",
    "|---------|:----------:|------:|:--------:|\n",
    "| Bagel   | 2017-10-21 | 1.0   | 20       |\n",
    "| Bagel   | 2017-10-25 | 1.5   | 20       |\n",
    "| Banana  | 2017-10-03 | 0.5   | 10       |\n",
    "| Banana  | 2017-10-10 | 1.0   | 10       |"
   ]
  },
  {
   "cell_type": "code",
   "execution_count": 6,
   "metadata": {
    "slideshow": {
     "slide_type": "-"
    }
   },
   "outputs": [
    {
     "name": "stdout",
     "output_type": "stream",
     "text": [
      " * sqlite://\n",
      "Done.\n"
     ]
    },
    {
     "data": {
      "text/html": [
       "<table>\n",
       "    <tr>\n",
       "        <th>SUM(Quantity)</th>\n",
       "    </tr>\n",
       "    <tr>\n",
       "        <td>40</td>\n",
       "    </tr>\n",
       "</table>"
      ],
      "text/plain": [
       "[(40,)]"
      ]
     },
     "execution_count": 6,
     "metadata": {},
     "output_type": "execute_result"
    }
   ],
   "source": [
    "%%sql\n",
    "SELECT SUM(Quantity)\n",
    "FROM   Purchase\n",
    "WHERE  Product = 'Bagel';"
   ]
  },
  {
   "cell_type": "markdown",
   "metadata": {
    "slideshow": {
     "slide_type": "slide"
    }
   },
   "source": [
    "## AVG\n",
    "\n",
    "Syntax\n",
    "```mysql\n",
    "SELECT AVG(column_name)\n",
    "FROM   table_name\n",
    "WHERE  condition;\n",
    "```"
   ]
  },
  {
   "cell_type": "markdown",
   "metadata": {
    "slideshow": {
     "slide_type": "slide"
    }
   },
   "source": [
    "> __Example:__ What is the average sell price of Bagels?\n",
    "\n",
    "| Product |    Date    | Price | Quantity |\n",
    "|---------|:----------:|------:|:--------:|\n",
    "| Bagel   | 2017-10-21 | 1.0   | 20       |\n",
    "| Bagel   | 2017-10-25 | 1.5   | 20       |\n",
    "| Banana  | 2017-10-03 | 0.5   | 10       |\n",
    "| Banana  | 2017-10-10 | 1.0   | 10       |"
   ]
  },
  {
   "cell_type": "code",
   "execution_count": 7,
   "metadata": {
    "slideshow": {
     "slide_type": "-"
    }
   },
   "outputs": [
    {
     "name": "stdout",
     "output_type": "stream",
     "text": [
      " * sqlite://\n",
      "Done.\n"
     ]
    },
    {
     "data": {
      "text/html": [
       "<table>\n",
       "    <tr>\n",
       "        <th>AVG(Price)</th>\n",
       "    </tr>\n",
       "    <tr>\n",
       "        <td>1.25</td>\n",
       "    </tr>\n",
       "</table>"
      ],
      "text/plain": [
       "[(1.25,)]"
      ]
     },
     "execution_count": 7,
     "metadata": {},
     "output_type": "execute_result"
    }
   ],
   "source": [
    "%%sql\n",
    "SELECT AVG(Price)\n",
    "FROM   Purchase\n",
    "WHERE  Product = 'Bagel';"
   ]
  },
  {
   "cell_type": "markdown",
   "metadata": {
    "slideshow": {
     "slide_type": "slide"
    }
   },
   "source": [
    "### Simple Aggregations\n",
    "\n",
    "> __Example:__ Total earnings from Bagels sold?\n",
    "\n",
    "| Product |    Date    | Price | Quantity |\n",
    "|---------|:----------:|------:|:--------:|\n",
    "| Bagel   | 2017-10-21 | 1.0   | 20       |\n",
    "| Bagel   | 2017-10-25 | 1.5   | 20       |\n",
    "| Banana  | 2017-10-03 | 0.5   | 10       |\n",
    "| Banana  | 2017-10-10 | 1.0   | 10       |"
   ]
  },
  {
   "cell_type": "code",
   "execution_count": 8,
   "metadata": {
    "slideshow": {
     "slide_type": "-"
    }
   },
   "outputs": [
    {
     "name": "stdout",
     "output_type": "stream",
     "text": [
      " * sqlite://\n",
      "Done.\n"
     ]
    },
    {
     "data": {
      "text/html": [
       "<table>\n",
       "    <tr>\n",
       "        <th>SUM(Price * Quantity)</th>\n",
       "    </tr>\n",
       "    <tr>\n",
       "        <td>15.0</td>\n",
       "    </tr>\n",
       "</table>"
      ],
      "text/plain": [
       "[(15.0,)]"
      ]
     },
     "execution_count": 8,
     "metadata": {},
     "output_type": "execute_result"
    }
   ],
   "source": [
    "%%sql\n",
    "SELECT SUM(Price * Quantity)\n",
    "FROM   Purchase\n",
    "WHERE  Product = 'Banana';"
   ]
  },
  {
   "cell_type": "markdown",
   "metadata": {
    "slideshow": {
     "slide_type": "slide"
    }
   },
   "source": [
    "## GROUP BY\n",
    "\n",
    "Used with aggregate functions (COUNT, MAX, MIN, SUM, AVG) to group the result-set by one or more columns.\n",
    "\n",
    "Syntax\n",
    "```mysql\n",
    "SELECT   column_name(s)\n",
    "FROM     table_name\n",
    "WHERE    condition\n",
    "GROUP BY column_name(s)\n",
    "[ORDER BY column_name(s)];\n",
    "```"
   ]
  },
  {
   "cell_type": "markdown",
   "metadata": {
    "slideshow": {
     "slide_type": "slide"
    }
   },
   "source": [
    "> __Example:__ Find total sales after October 1st. per product\n",
    "\n",
    "| Product |    Date    | Price | Quantity |\n",
    "|---------|:----------:|------:|:--------:|\n",
    "| Bagel   | 2017-10-21 | 1.0   | 20       |\n",
    "| Bagel   | 2017-10-25 | 1.5   | 20       |\n",
    "| Banana  | 2017-10-03 | 0.5   | 10       |\n",
    "| Banana  | 2017-10-10 | 1.0   | 10       |"
   ]
  },
  {
   "cell_type": "code",
   "execution_count": 9,
   "metadata": {
    "slideshow": {
     "slide_type": "-"
    }
   },
   "outputs": [
    {
     "name": "stdout",
     "output_type": "stream",
     "text": [
      " * sqlite://\n",
      "Done.\n"
     ]
    },
    {
     "data": {
      "text/html": [
       "<table>\n",
       "    <tr>\n",
       "        <th>Product</th>\n",
       "        <th>TotalSales</th>\n",
       "    </tr>\n",
       "    <tr>\n",
       "        <td>Bagel</td>\n",
       "        <td>50.0</td>\n",
       "    </tr>\n",
       "    <tr>\n",
       "        <td>Banana</td>\n",
       "        <td>15.0</td>\n",
       "    </tr>\n",
       "</table>"
      ],
      "text/plain": [
       "[('Bagel', 50.0), ('Banana', 15.0)]"
      ]
     },
     "execution_count": 9,
     "metadata": {},
     "output_type": "execute_result"
    }
   ],
   "source": [
    "%%sql\n",
    "SELECT   Product, SUM(price * quantity) AS TotalSales\n",
    "FROM     Purchase\n",
    "WHERE    Date > '2017-10-01'\n",
    "GROUP BY Product;"
   ]
  },
  {
   "cell_type": "markdown",
   "metadata": {
    "slideshow": {
     "slide_type": "slide"
    }
   },
   "source": [
    "### Grouping and Aggregation: Semantics of the Query\n",
    "\n",
    "__1.__ Compute the FROM and WHERE clauses"
   ]
  },
  {
   "cell_type": "code",
   "execution_count": 10,
   "metadata": {
    "slideshow": {
     "slide_type": "-"
    }
   },
   "outputs": [
    {
     "name": "stdout",
     "output_type": "stream",
     "text": [
      " * sqlite://\n",
      "Done.\n"
     ]
    },
    {
     "data": {
      "text/html": [
       "<table>\n",
       "    <tr>\n",
       "        <th>Product</th>\n",
       "        <th>Date</th>\n",
       "        <th>Price</th>\n",
       "        <th>Quantity</th>\n",
       "    </tr>\n",
       "    <tr>\n",
       "        <td>Bagel</td>\n",
       "        <td>2017-10-21</td>\n",
       "        <td>1.0</td>\n",
       "        <td>20</td>\n",
       "    </tr>\n",
       "    <tr>\n",
       "        <td>Bagel</td>\n",
       "        <td>2017-10-25</td>\n",
       "        <td>1.5</td>\n",
       "        <td>20</td>\n",
       "    </tr>\n",
       "    <tr>\n",
       "        <td>Banana</td>\n",
       "        <td>2017-10-03</td>\n",
       "        <td>0.5</td>\n",
       "        <td>10</td>\n",
       "    </tr>\n",
       "    <tr>\n",
       "        <td>Banana</td>\n",
       "        <td>2017-10-10</td>\n",
       "        <td>1.0</td>\n",
       "        <td>10</td>\n",
       "    </tr>\n",
       "</table>"
      ],
      "text/plain": [
       "[('Bagel', '2017-10-21', 1.0, 20),\n",
       " ('Bagel', '2017-10-25', 1.5, 20),\n",
       " ('Banana', '2017-10-03', 0.5, 10),\n",
       " ('Banana', '2017-10-10', 1.0, 10)]"
      ]
     },
     "execution_count": 10,
     "metadata": {},
     "output_type": "execute_result"
    }
   ],
   "source": [
    "%%sql\n",
    "SELECT *\n",
    "FROM   Purchase\n",
    "WHERE  Date > '2017-10-01'"
   ]
  },
  {
   "cell_type": "markdown",
   "metadata": {
    "slideshow": {
     "slide_type": "slide"
    }
   },
   "source": [
    "__2.__ Group attributes according to GROUP BY\n",
    "\n",
    "|__Product__| __Date__ |__Price__|__Quantity__|\n",
    "|:-------:|:----------:|:-----:|:--------:|\n",
    "|  Bagel  | 2017-10-21 |   1   |    20    |\n",
    "|         | 2017-10-25 |  1.5  |    20    |\n",
    "|  Banana | 2017-10-03 |  0.5  |    10    |\n",
    "|         | 2017-10-10 |   1   |    10    |\n",
    "\n",
    "\n",
    "__Caution:__ SQL _only_ displays one row if no aggregation function is used"
   ]
  },
  {
   "cell_type": "code",
   "execution_count": 11,
   "metadata": {
    "slideshow": {
     "slide_type": "-"
    }
   },
   "outputs": [
    {
     "name": "stdout",
     "output_type": "stream",
     "text": [
      " * sqlite://\n",
      "Done.\n"
     ]
    },
    {
     "data": {
      "text/html": [
       "<table>\n",
       "    <tr>\n",
       "        <th>Product</th>\n",
       "        <th>Date</th>\n",
       "        <th>Price</th>\n",
       "        <th>Quantity</th>\n",
       "    </tr>\n",
       "    <tr>\n",
       "        <td>Bagel</td>\n",
       "        <td>2017-10-21</td>\n",
       "        <td>1.0</td>\n",
       "        <td>20</td>\n",
       "    </tr>\n",
       "    <tr>\n",
       "        <td>Banana</td>\n",
       "        <td>2017-10-03</td>\n",
       "        <td>0.5</td>\n",
       "        <td>10</td>\n",
       "    </tr>\n",
       "</table>"
      ],
      "text/plain": [
       "[('Bagel', '2017-10-21', 1.0, 20), ('Banana', '2017-10-03', 0.5, 10)]"
      ]
     },
     "execution_count": 11,
     "metadata": {},
     "output_type": "execute_result"
    }
   ],
   "source": [
    "%%sql\n",
    "SELECT   *\n",
    "FROM     Purchase\n",
    "WHERE    Date > '2017-10-01'\n",
    "GROUP BY Product;"
   ]
  },
  {
   "cell_type": "code",
   "execution_count": 12,
   "metadata": {
    "slideshow": {
     "slide_type": "-"
    }
   },
   "outputs": [
    {
     "name": "stdout",
     "output_type": "stream",
     "text": [
      " * sqlite://\n",
      "Done.\n"
     ]
    },
    {
     "data": {
      "text/html": [
       "<table>\n",
       "    <tr>\n",
       "        <th>Product</th>\n",
       "        <th>Count(Product)</th>\n",
       "    </tr>\n",
       "    <tr>\n",
       "        <td>Bagel</td>\n",
       "        <td>2</td>\n",
       "    </tr>\n",
       "    <tr>\n",
       "        <td>Banana</td>\n",
       "        <td>2</td>\n",
       "    </tr>\n",
       "</table>"
      ],
      "text/plain": [
       "[('Bagel', 2), ('Banana', 2)]"
      ]
     },
     "execution_count": 12,
     "metadata": {},
     "output_type": "execute_result"
    }
   ],
   "source": [
    "%%sql\n",
    "SELECT   Product, Count(Product)\n",
    "FROM     Purchase\n",
    "WHERE    Date > '2017-10-01'\n",
    "GROUP BY Product;"
   ]
  },
  {
   "cell_type": "markdown",
   "metadata": {
    "slideshow": {
     "slide_type": "slide"
    }
   },
   "source": [
    "__3.__ Compute the SELECT clause: grouped attributes and aggregates\n",
    "\n",
    "| Product |    Date    | Price | Quantity |\n",
    "|---------|:----------:|------:|:--------:|\n",
    "| Bagel   | 2017-10-21 | 1.0   | 20       |\n",
    "| Bagel   | 2017-10-25 | 1.5   | 20       |\n",
    "| Banana  | 2017-10-03 | 0.5   | 10       |\n",
    "| Banana  | 2017-10-10 | 1.0   | 10       |"
   ]
  },
  {
   "cell_type": "code",
   "execution_count": 13,
   "metadata": {
    "slideshow": {
     "slide_type": "-"
    }
   },
   "outputs": [
    {
     "name": "stdout",
     "output_type": "stream",
     "text": [
      " * sqlite://\n",
      "Done.\n"
     ]
    },
    {
     "data": {
      "text/html": [
       "<table>\n",
       "    <tr>\n",
       "        <th>Product</th>\n",
       "        <th>TotalSales</th>\n",
       "    </tr>\n",
       "    <tr>\n",
       "        <td>Bagel</td>\n",
       "        <td>50.0</td>\n",
       "    </tr>\n",
       "    <tr>\n",
       "        <td>Banana</td>\n",
       "        <td>15.0</td>\n",
       "    </tr>\n",
       "</table>"
      ],
      "text/plain": [
       "[('Bagel', 50.0), ('Banana', 15.0)]"
      ]
     },
     "execution_count": 13,
     "metadata": {},
     "output_type": "execute_result"
    }
   ],
   "source": [
    "%%sql  /* Find total sales after '2017-10-01' per product */\n",
    "\n",
    "SELECT   Product, SUM(price * quantity) AS TotalSales\n",
    "FROM     Purchase\n",
    "WHERE    Date > '2017-10-01'\n",
    "GROUP BY Product;"
   ]
  },
  {
   "cell_type": "markdown",
   "metadata": {
    "slideshow": {
     "slide_type": "slide"
    }
   },
   "source": [
    "### GROUP BY vs Nested Queries\n",
    "\n",
    "```mysql\n",
    "SELECT   Product, SUM(price * quantity) AS TotalSales\n",
    "FROM     Purchase\n",
    "WHERE    Date > '10/1'\n",
    "GROUP BY Product;\n",
    "```"
   ]
  },
  {
   "cell_type": "code",
   "execution_count": 14,
   "metadata": {
    "slideshow": {
     "slide_type": "-"
    }
   },
   "outputs": [
    {
     "name": "stdout",
     "output_type": "stream",
     "text": [
      " * sqlite://\n",
      "Done.\n"
     ]
    },
    {
     "data": {
      "text/html": [
       "<table>\n",
       "    <tr>\n",
       "        <th>Product</th>\n",
       "        <th>TotalSales</th>\n",
       "    </tr>\n",
       "    <tr>\n",
       "        <td>Bagel</td>\n",
       "        <td>50.0</td>\n",
       "    </tr>\n",
       "    <tr>\n",
       "        <td>Banana</td>\n",
       "        <td>15.0</td>\n",
       "    </tr>\n",
       "</table>"
      ],
      "text/plain": [
       "[('Bagel', 50.0), ('Banana', 15.0)]"
      ]
     },
     "execution_count": 14,
     "metadata": {},
     "output_type": "execute_result"
    }
   ],
   "source": [
    "%%sql\n",
    "SELECT DISTINCT x.Product, (SELECT Sum(y.price*y.quantity)\n",
    "                                   FROM Purchase y\n",
    "                                   WHERE x.product = y.product) AS TotalSales\n",
    "FROM  Purchase x\n",
    "WHERE x.date > '2017-10-01';"
   ]
  },
  {
   "cell_type": "markdown",
   "metadata": {
    "slideshow": {
     "slide_type": "slide"
    }
   },
   "source": [
    "## HAVING\n",
    "\n",
    "* HAVING clauses contain conditions on __aggregates__\n",
    "* WHERE clauses condition on __individual tuples__\n",
    "\n",
    "Syntax\n",
    "```mysql\n",
    "SELECT   column_name(s)\n",
    "FROM     table_name\n",
    "WHERE    condition\n",
    "GROUP BY column_name(s)\n",
    "HAVING   condition\n",
    "[ORDER BY column_name(s)];\n",
    "```"
   ]
  },
  {
   "cell_type": "markdown",
   "metadata": {
    "slideshow": {
     "slide_type": "slide"
    }
   },
   "source": [
    "> __Example:__ Same query as before, except that we consider only products with more than 30 units sold\n",
    "\n",
    "| Product |    Date    | Price | Quantity |\n",
    "|---------|:----------:|------:|:--------:|\n",
    "| Bagel   | 2017-10-21 | 1.0   | 20       |\n",
    "| Bagel   | 2017-10-25 | 1.5   | 20       |\n",
    "| Banana  | 2017-10-03 | 0.5   | 10       |\n",
    "| Banana  | 2017-10-10 | 1.0   | 10       |"
   ]
  },
  {
   "cell_type": "code",
   "execution_count": 15,
   "metadata": {
    "slideshow": {
     "slide_type": "-"
    }
   },
   "outputs": [
    {
     "name": "stdout",
     "output_type": "stream",
     "text": [
      " * sqlite://\n",
      "Done.\n"
     ]
    },
    {
     "data": {
      "text/html": [
       "<table>\n",
       "    <tr>\n",
       "        <th>Product</th>\n",
       "        <th>TotalSales</th>\n",
       "    </tr>\n",
       "    <tr>\n",
       "        <td>Bagel</td>\n",
       "        <td>50.0</td>\n",
       "    </tr>\n",
       "</table>"
      ],
      "text/plain": [
       "[('Bagel', 50.0)]"
      ]
     },
     "execution_count": 15,
     "metadata": {},
     "output_type": "execute_result"
    }
   ],
   "source": [
    "%%sql\n",
    "SELECT   Product, SUM(price * quantity) AS TotalSales\n",
    "FROM     Purchase\n",
    "WHERE    Date > '2017-10-01'\n",
    "GROUP BY Product\n",
    "HAVING SUM(Quantity) > 30;"
   ]
  },
  {
   "cell_type": "markdown",
   "metadata": {
    "slideshow": {
     "slide_type": "slide"
    }
   },
   "source": [
    "### Exercise II\n",
    "\n",
    "An organism that sells tickets for football matches uses a database with the following relational schema:\n",
    "\n",
    "```\n",
    "Match(Match_ID, Date, Hour, Stadium_ID, Team_ID)\n",
    "Team(Team_ID, Name, City)\n",
    "Stadium(Stadium_ID, Name, Address, Capacity, Team_ID)\n",
    "Ticket(Ticket_ID, Match_ID, Place_Number, Category, Price)\n",
    "Sell(Sell_ID, Sell_Date, Ticket_ID, Payment_Method)\n",
    "```\n",
    "\n",
    "Write the following query in SQL:\n",
    "> What are the name(s) of the stadium(s) with **the** largest capacity?"
   ]
  },
  {
   "cell_type": "markdown",
   "metadata": {
    "slideshow": {
     "slide_type": "skip"
    }
   },
   "source": [
    "___"
   ]
  },
  {
   "cell_type": "markdown",
   "metadata": {
    "slideshow": {
     "slide_type": "slide"
    }
   },
   "source": [
    "# Advanced\\* Topics\n",
    "\n",
    "In this section\n",
    "* Relational Division is SQL\n"
   ]
  },
  {
   "cell_type": "markdown",
   "metadata": {
    "collapsed": true,
    "slideshow": {
     "slide_type": "slide"
    }
   },
   "source": [
    "## Relational Division in SQL\n",
    "\n",
    "* Not supported as a primitive operator, but useful for expressing queries like:\n",
    "\n",
    "> _\"Find suppliers who sell the x parts...\"_\n",
    "\n",
    "> _\"Find buyers who bought all products from a given category...\"_\n",
    "\n",
    "> _\"Find the names of sailors who’ve reserved all boats\"_\n",
    "\n",
    "* Let $A$ have 2 fields, $x$ and $y$, $B$ have only field $y$\n",
    "```mysql\n",
    "A(x, y)\n",
    "B(y)\n",
    "```\n",
    "  * $A/B$ contains all $x$ tuples such that for every $y$ tuple in $B$, there is an $xy$ tuple in $A$\n",
    "  * Or: If the set of $y$ values associated with an $x$ value in $A$ contains all $y$ values in $B$, the $x$ value is in $A/B$."
   ]
  },
  {
   "cell_type": "markdown",
   "metadata": {
    "collapsed": true,
    "slideshow": {
     "slide_type": "slide"
    }
   },
   "source": [
    "__Classic Option 1__\n",
    "```mysql\n",
    "SELECT T1.x\n",
    "FROM A AS T1\n",
    "WHERE NOT EXISTS( SELECT T2.y\n",
    "                  FROM B AS T2\n",
    "                  EXCEPT\n",
    "                  SELECT T3.y\n",
    "                  FROM A AS T3\n",
    "                  WHERE T3.y=T1.y);\n",
    "```"
   ]
  },
  {
   "cell_type": "markdown",
   "metadata": {
    "collapsed": true,
    "slideshow": {
     "slide_type": "slide"
    }
   },
   "source": [
    "__Classic Option 2__ (without EXCEPT)\n",
    "```mysql\n",
    "SELECT DISTINCT T1.x\n",
    "FROM A AS T1\n",
    "WHERE NOT EXISTS(SELECT T2.y\n",
    "                 FROM B AS T2\n",
    "                 WHERE NOT EXISTS (SELECT T3.x\n",
    "                                   FROM A AS T3\n",
    "                                   WHERE T3.x=T1.x\n",
    "                                   AND T3.y=T2.y\n",
    "                                  )\n",
    "                );\n",
    "```"
   ]
  },
  {
   "cell_type": "markdown",
   "metadata": {
    "slideshow": {
     "slide_type": "slide"
    }
   },
   "source": [
    "> __Example:__ Find Establishments which sell all products\n",
    "```\n",
    "Establishment(eid, ename)\n",
    "Sells(eid, pname)\n",
    "Products(pname)\n",
    "```\n",
    "\n"
   ]
  },
  {
   "cell_type": "markdown",
   "metadata": {
    "slideshow": {
     "slide_type": "slide"
    }
   },
   "source": [
    "Classic Option 2 (without EXCEPT)\n",
    "```mysql\n",
    "SELECT DISTINCT E.ename\n",
    "FROM Establishment AS E\n",
    "WHERE NOT EXISTS (SELECT p.pname\n",
    "                  FROM Products3 AS P \n",
    "                  WHERE NOT EXISTS (SELECT S.eid\n",
    "                                    FROM Sells AS S\n",
    "                                    WHERE S.pname=P.pname\n",
    "                                    AND S.eid=E.eid\n",
    "                                   )\n",
    "                );\n",
    "```\n",
    "\n",
    "* Semantics:\n",
    "  * _Establishment_ E such that...\n",
    "    \n",
    "    ... there is no _Product_ P...\n",
    " \n",
    "    ...... without a _Sells_ tuple showing that E sells P "
   ]
  },
  {
   "cell_type": "markdown",
   "metadata": {
    "slideshow": {
     "slide_type": "slide"
    }
   },
   "source": [
    "> __Example:__ Find Establishments which sell all products\n",
    "![division_example](figures/sql_division_example.png)"
   ]
  },
  {
   "cell_type": "code",
   "execution_count": 16,
   "metadata": {
    "slideshow": {
     "slide_type": "slide"
    }
   },
   "outputs": [
    {
     "name": "stdout",
     "output_type": "stream",
     "text": [
      " * sqlite://\n",
      "Done.\n",
      "Done.\n",
      "Done.\n",
      "Done.\n",
      "Done.\n",
      "Done.\n",
      "Done.\n",
      "Done.\n",
      "Done.\n",
      "Done.\n",
      "Done.\n",
      "1 rows affected.\n",
      "1 rows affected.\n",
      "1 rows affected.\n",
      "1 rows affected.\n",
      "1 rows affected.\n",
      "1 rows affected.\n",
      "1 rows affected.\n",
      "1 rows affected.\n",
      "1 rows affected.\n",
      "1 rows affected.\n",
      "1 rows affected.\n",
      "1 rows affected.\n",
      "1 rows affected.\n",
      "1 rows affected.\n",
      "1 rows affected.\n",
      "1 rows affected.\n",
      "1 rows affected.\n",
      "1 rows affected.\n"
     ]
    },
    {
     "data": {
      "text/plain": [
       "[]"
      ]
     },
     "execution_count": 16,
     "metadata": {},
     "output_type": "execute_result"
    }
   ],
   "source": [
    "%%sql\n",
    "DROP TABLE IF EXISTS Establishment;\n",
    "-- Create tables\n",
    "CREATE TABLE Establishment (\n",
    "    eid INT,\n",
    "    ename VARCHAR);\n",
    "\n",
    "DROP TABLE IF EXISTS Sells;\n",
    "-- Create tables\n",
    "CREATE TABLE Sells (\n",
    "    eid INT,\n",
    "    pname VARCHAR);\n",
    "\n",
    "DROP TABLE IF EXISTS Products1;\n",
    "-- Create tables\n",
    "CREATE TABLE Products1 (\n",
    "    pname VARCHAR);\n",
    "\n",
    "DROP TABLE IF EXISTS Products2;\n",
    "-- Create tables\n",
    "CREATE TABLE Products2 (\n",
    "    pname VARCHAR);\n",
    "\n",
    "DROP TABLE IF EXISTS Products3;\n",
    "-- Create tables\n",
    "CREATE TABLE Products3 (\n",
    "    pname VARCHAR);\n",
    "\n",
    "-- Insert tuples\n",
    "INSERT INTO Establishment VALUES (1, 'Carrefour');\n",
    "INSERT INTO Establishment VALUES (2, 'Franprix');\n",
    "INSERT INTO Establishment VALUES (3, 'Boulangerie');\n",
    "INSERT INTO Establishment VALUES (4, 'Biocoop');\n",
    "INSERT INTO Sells VALUES (1, 'Wine');\n",
    "INSERT INTO Sells VALUES (1, 'Bread');\n",
    "INSERT INTO Sells VALUES (1, 'Cheese');\n",
    "INSERT INTO Sells VALUES (1, 'Meat');\n",
    "INSERT INTO Sells VALUES (2, 'Wine');\n",
    "INSERT INTO Sells VALUES (2, 'Bread');\n",
    "INSERT INTO Sells VALUES (3, 'Bread');\n",
    "INSERT INTO Sells VALUES (4, 'Bread');\n",
    "INSERT INTO Sells VALUES (4, 'Meat');\n",
    "INSERT INTO Products1 VALUES ('Bread');\n",
    "INSERT INTO Products2 VALUES ('Bread');\n",
    "INSERT INTO Products2 VALUES ('Meat');\n",
    "INSERT INTO Products3 VALUES ('Wine');\n",
    "INSERT INTO Products3 VALUES ('Bread');\n",
    "INSERT INTO Products3 VALUES ('Meat');"
   ]
  },
  {
   "cell_type": "code",
   "execution_count": 17,
   "metadata": {
    "slideshow": {
     "slide_type": "slide"
    }
   },
   "outputs": [
    {
     "name": "stdout",
     "output_type": "stream",
     "text": [
      " * sqlite://\n",
      "Done.\n"
     ]
    },
    {
     "data": {
      "text/html": [
       "<table>\n",
       "    <tr>\n",
       "        <th>eid</th>\n",
       "        <th>ename</th>\n",
       "    </tr>\n",
       "    <tr>\n",
       "        <td>1</td>\n",
       "        <td>Carrefour</td>\n",
       "    </tr>\n",
       "    <tr>\n",
       "        <td>2</td>\n",
       "        <td>Franprix</td>\n",
       "    </tr>\n",
       "    <tr>\n",
       "        <td>3</td>\n",
       "        <td>Boulangerie</td>\n",
       "    </tr>\n",
       "    <tr>\n",
       "        <td>4</td>\n",
       "        <td>Biocoop</td>\n",
       "    </tr>\n",
       "</table>"
      ],
      "text/plain": [
       "[(1, 'Carrefour'), (2, 'Franprix'), (3, 'Boulangerie'), (4, 'Biocoop')]"
      ]
     },
     "execution_count": 17,
     "metadata": {},
     "output_type": "execute_result"
    }
   ],
   "source": [
    "%%sql\n",
    "SELECT * FROM Establishment;"
   ]
  },
  {
   "cell_type": "code",
   "execution_count": 18,
   "metadata": {
    "slideshow": {
     "slide_type": "-"
    }
   },
   "outputs": [
    {
     "name": "stdout",
     "output_type": "stream",
     "text": [
      " * sqlite://\n",
      "Done.\n"
     ]
    },
    {
     "data": {
      "text/html": [
       "<table>\n",
       "    <tr>\n",
       "        <th>eid</th>\n",
       "        <th>pname</th>\n",
       "    </tr>\n",
       "    <tr>\n",
       "        <td>1</td>\n",
       "        <td>Wine</td>\n",
       "    </tr>\n",
       "    <tr>\n",
       "        <td>1</td>\n",
       "        <td>Bread</td>\n",
       "    </tr>\n",
       "    <tr>\n",
       "        <td>1</td>\n",
       "        <td>Cheese</td>\n",
       "    </tr>\n",
       "    <tr>\n",
       "        <td>1</td>\n",
       "        <td>Meat</td>\n",
       "    </tr>\n",
       "    <tr>\n",
       "        <td>2</td>\n",
       "        <td>Wine</td>\n",
       "    </tr>\n",
       "    <tr>\n",
       "        <td>2</td>\n",
       "        <td>Bread</td>\n",
       "    </tr>\n",
       "    <tr>\n",
       "        <td>3</td>\n",
       "        <td>Bread</td>\n",
       "    </tr>\n",
       "    <tr>\n",
       "        <td>4</td>\n",
       "        <td>Bread</td>\n",
       "    </tr>\n",
       "    <tr>\n",
       "        <td>4</td>\n",
       "        <td>Meat</td>\n",
       "    </tr>\n",
       "</table>"
      ],
      "text/plain": [
       "[(1, 'Wine'),\n",
       " (1, 'Bread'),\n",
       " (1, 'Cheese'),\n",
       " (1, 'Meat'),\n",
       " (2, 'Wine'),\n",
       " (2, 'Bread'),\n",
       " (3, 'Bread'),\n",
       " (4, 'Bread'),\n",
       " (4, 'Meat')]"
      ]
     },
     "execution_count": 18,
     "metadata": {},
     "output_type": "execute_result"
    }
   ],
   "source": [
    "%%sql\n",
    "SELECT * FROM Sells;"
   ]
  },
  {
   "cell_type": "code",
   "execution_count": 19,
   "metadata": {
    "slideshow": {
     "slide_type": "-"
    }
   },
   "outputs": [
    {
     "name": "stdout",
     "output_type": "stream",
     "text": [
      " * sqlite://\n",
      "Done.\n"
     ]
    },
    {
     "data": {
      "text/html": [
       "<table>\n",
       "    <tr>\n",
       "        <th>pname</th>\n",
       "    </tr>\n",
       "    <tr>\n",
       "        <td>Wine</td>\n",
       "    </tr>\n",
       "    <tr>\n",
       "        <td>Bread</td>\n",
       "    </tr>\n",
       "    <tr>\n",
       "        <td>Meat</td>\n",
       "    </tr>\n",
       "</table>"
      ],
      "text/plain": [
       "[('Wine',), ('Bread',), ('Meat',)]"
      ]
     },
     "execution_count": 19,
     "metadata": {},
     "output_type": "execute_result"
    }
   ],
   "source": [
    "%%sql\n",
    "SELECT * FROM Products3"
   ]
  },
  {
   "cell_type": "markdown",
   "metadata": {
    "slideshow": {
     "slide_type": "slide"
    }
   },
   "source": [
    "> __Example:__ Find Establishments which sell all products\n",
    "![division_example](figures/sql_division_example.png)\n"
   ]
  },
  {
   "cell_type": "code",
   "execution_count": 20,
   "metadata": {
    "slideshow": {
     "slide_type": "-"
    }
   },
   "outputs": [
    {
     "name": "stdout",
     "output_type": "stream",
     "text": [
      " * sqlite://\n",
      "Done.\n"
     ]
    },
    {
     "data": {
      "text/html": [
       "<table>\n",
       "    <tr>\n",
       "        <th>ename</th>\n",
       "    </tr>\n",
       "    <tr>\n",
       "        <td>Carrefour</td>\n",
       "    </tr>\n",
       "</table>"
      ],
      "text/plain": [
       "[('Carrefour',)]"
      ]
     },
     "execution_count": 20,
     "metadata": {},
     "output_type": "execute_result"
    }
   ],
   "source": [
    "%%sql  /* Change bellow to query Products[1,2,3] */\n",
    "SELECT DISTINCT E.ename\n",
    "FROM Establishment AS E\n",
    "WHERE NOT EXISTS (SELECT P.pname\n",
    "                  FROM Products3 AS P \n",
    "                  WHERE NOT EXISTS (SELECT S.eid\n",
    "                                    FROM Sells AS S\n",
    "                                    WHERE S.pname=P.pname\n",
    "                                    AND S.eid=E.eid\n",
    "                                   )\n",
    "                );"
   ]
  },
  {
   "cell_type": "markdown",
   "metadata": {
    "slideshow": {
     "slide_type": "slide"
    }
   },
   "source": [
    "> __Exercise:__ Write the same query with EXCEPT (Classic Option 1)\n",
    "```\n",
    "Establishment(eid, ename)\n",
    "Sells(eid, pname)\n",
    "Products(pname)\n",
    "```\n",
    "___\n",
    "```mysql\n",
    "SELECT T1.x\n",
    "FROM A AS T1\n",
    "WHERE NOT EXISTS( SELECT T2.y\n",
    "                  FROM B AS T2\n",
    "                  EXCEPT\n",
    "                  SELECT T3.y\n",
    "                  FROM A AS T3\n",
    "                  WHERE T3.y=T1.y);\n",
    "```"
   ]
  },
  {
   "cell_type": "markdown",
   "metadata": {
    "slideshow": {
     "slide_type": "slide"
    }
   },
   "source": [
    "> __Example:__ Find Establishments which sell all products\n",
    "![division_example](figures/sql_division_example.png)"
   ]
  },
  {
   "cell_type": "code",
   "execution_count": 21,
   "metadata": {},
   "outputs": [
    {
     "name": "stdout",
     "output_type": "stream",
     "text": [
      " * sqlite://\n",
      "0 rows affected.\n"
     ]
    },
    {
     "data": {
      "text/plain": [
       "[]"
      ]
     },
     "execution_count": 21,
     "metadata": {},
     "output_type": "execute_result"
    }
   ],
   "source": [
    "%%sql\n",
    "/* Write the same query with EXCEPT (Classic Option 1) */\n"
   ]
  },
  {
   "cell_type": "markdown",
   "metadata": {
    "slideshow": {
     "slide_type": "slide"
    }
   },
   "source": [
    "### Exercise III\n",
    "\n",
    "An organism that sells tickets for football matches uses a database with the following relational schema:\n",
    "\n",
    "```\n",
    "Match(Match_ID, Date, Hour, Stadium_ID, Team_ID)\n",
    "Team(Team_ID, Name, City)\n",
    "Stadium(Stadium_ID, Name, Address, Capacity, Team_ID)\n",
    "Ticket(Ticket_ID, Match_ID, Place_Number, Category, Price)\n",
    "Sell(Sell_ID, Sell_Date, Ticket_ID, Payment_Method)\n",
    "```\n",
    "\n",
    "Write the following query in SQL:\n",
    "> What are the teams that will play at least once in all the stadiums?"
   ]
  },
  {
   "cell_type": "markdown",
   "metadata": {
    "slideshow": {
     "slide_type": "slide"
    }
   },
   "source": [
    "### Exercise IV\n",
    "\n",
    "An organism that sells tickets for football matches uses a database with the following relational schema:\n",
    "\n",
    "```\n",
    "Match(Match_ID, Date, Hour, Stadium_ID, Team_ID)\n",
    "Team(Team_ID, Name, City)\n",
    "Stadium(Stadium_ID, Name, Address, Capacity, Team_ID)\n",
    "Ticket(Ticket_ID, Match_ID, Place_Number, Category, Price)\n",
    "Sell(Sell_ID, Sell_Date, Ticket_ID, Payment_Method)\n",
    "```\n",
    "\n",
    "Write the following query in SQL:\n",
    "> What are the dates and identifiers of matches for which there are no more tickets to sell?"
   ]
  }
 ],
 "metadata": {
  "celltoolbar": "Slideshow",
  "kernelspec": {
   "display_name": "Python 3",
   "language": "python",
   "name": "python3"
  },
  "language_info": {
   "codemirror_mode": {
    "name": "ipython",
    "version": 3
   },
   "file_extension": ".py",
   "mimetype": "text/x-python",
   "name": "python",
   "nbconvert_exporter": "python",
   "pygments_lexer": "ipython3",
   "version": "3.7.9"
  }
 },
 "nbformat": 4,
 "nbformat_minor": 2
}
